{
  "nbformat": 4,
  "nbformat_minor": 0,
  "metadata": {
    "colab": {
      "provenance": [],
      "authorship_tag": "ABX9TyNdGYTF8rgT85Pn5F38j7sX",
      "include_colab_link": true
    },
    "kernelspec": {
      "name": "python3",
      "display_name": "Python 3"
    },
    "language_info": {
      "name": "python"
    }
  },
  "cells": [
    {
      "cell_type": "markdown",
      "metadata": {
        "id": "view-in-github",
        "colab_type": "text"
      },
      "source": [
        "<a href=\"https://colab.research.google.com/github/Jaykumaran/Interview-ML/blob/main/Python_interview_DSA_for_AI_ML.ipynb\" target=\"_parent\"><img src=\"https://colab.research.google.com/assets/colab-badge.svg\" alt=\"Open In Colab\"/></a>"
      ]
    },
    {
      "cell_type": "markdown",
      "source": [
        "# Use Python Visualiser for indepth Understanding (Highly recommend)\n",
        "**https://pythontutor.com/render.html#mode=display**"
      ],
      "metadata": {
        "id": "KGjTgo5THTl0"
      }
    },
    {
      "cell_type": "markdown",
      "source": [
        "**1.Reverse a string**"
      ],
      "metadata": {
        "id": "Qz9B6UisQrX_"
      }
    },
    {
      "cell_type": "code",
      "execution_count": null,
      "metadata": {
        "colab": {
          "base_uri": "https://localhost:8080/",
          "height": 36
        },
        "id": "nFjyYIrCN2B9",
        "outputId": "6fc32d10-b827-4a71-9b0a-b72d219a3502"
      },
      "outputs": [
        {
          "output_type": "execute_result",
          "data": {
            "text/plain": [
              "'ASD'"
            ],
            "application/vnd.google.colaboratory.intrinsic+json": {
              "type": "string"
            }
          },
          "metadata": {},
          "execution_count": 2
        }
      ],
      "source": [
        "def reverse_string(s):\n",
        "  return s[::-1]\n",
        "s=\"DSA\"\n",
        "reverse_string(s)"
      ]
    },
    {
      "cell_type": "markdown",
      "source": [
        "**2.Palindrome**"
      ],
      "metadata": {
        "id": "bhklcP_ROMu7"
      }
    },
    {
      "cell_type": "code",
      "source": [
        "def is_palindrome(s):\n",
        "  return s==s[::-1]\n",
        "\n",
        "s = \"kayak\"  #Case sensitive Kayak is not a palindrome\n",
        "is_palindrome(s)\n"
      ],
      "metadata": {
        "colab": {
          "base_uri": "https://localhost:8080/"
        },
        "id": "tLwZTPl6OMDH",
        "outputId": "874ab8ee-82a9-4050-ea5c-5bbdf6ccff75"
      },
      "execution_count": null,
      "outputs": [
        {
          "output_type": "execute_result",
          "data": {
            "text/plain": [
              "True"
            ]
          },
          "metadata": {},
          "execution_count": 4
        }
      ]
    },
    {
      "cell_type": "markdown",
      "source": [
        "**3.Factorial**"
      ],
      "metadata": {
        "id": "IdlT9AsQOSG2"
      }
    },
    {
      "cell_type": "code",
      "source": [
        "def factorial(n):\n",
        "  if n <=1:\n",
        "    return 1\n",
        "  return n * factorial(n-1)\n",
        "\n",
        "factorial(5)"
      ],
      "metadata": {
        "colab": {
          "base_uri": "https://localhost:8080/"
        },
        "id": "vl6GtjN4O2MG",
        "outputId": "9bf3c4c9-0730-4053-a3a2-d312e5844064"
      },
      "execution_count": null,
      "outputs": [
        {
          "output_type": "execute_result",
          "data": {
            "text/plain": [
              "120"
            ]
          },
          "metadata": {},
          "execution_count": 50
        }
      ]
    },
    {
      "cell_type": "markdown",
      "source": [
        "**4.Fibonacci Series**\n",
        "\n",
        "Generate the nth fibonacci number"
      ],
      "metadata": {
        "id": "dJAdwbY4PMMV"
      }
    },
    {
      "cell_type": "code",
      "source": [
        "def fibonacci(n):\n",
        "  if n<=1:\n",
        "    return n\n",
        "  return fibonacci(n-1)+fibonacci(n-2)\n",
        "\n",
        "for i in range(10):\n",
        "  print(fibonacci(i))\n"
      ],
      "metadata": {
        "colab": {
          "base_uri": "https://localhost:8080/"
        },
        "id": "7DH2s1yCPdxT",
        "outputId": "1b5ca7a3-0435-4c9c-a574-e099a2c857d4"
      },
      "execution_count": null,
      "outputs": [
        {
          "output_type": "stream",
          "name": "stdout",
          "text": [
            "0\n",
            "1\n",
            "1\n",
            "2\n",
            "3\n",
            "5\n",
            "8\n",
            "13\n",
            "21\n",
            "34\n"
          ]
        }
      ]
    },
    {
      "cell_type": "markdown",
      "source": [
        "**5.LInkedin List Cycle Detection**\n",
        "\n",
        "\n",
        "Understanding Linked Lists:\n",
        "\n",
        "https://www.geeksforgeeks.org/python-linked-list/\n",
        "\n",
        "Concept: A linked list is a linear data structure where elements (called nodes) are not stored in contiguous memory locations. Instead, each node contains a value and a pointer (called next) that points to the next node in the list.\n",
        "\n",
        "\n",
        "Visual: Imagine a train where each car is a node, and the connection between cars (the \"next\" pointer) allows you to move from one car to the next.\n",
        "\n",
        "Cycle: A cycle occurs when the last node's \"next\" pointer points back to a previous node, creating a loop in the list.\n",
        "\n",
        "Imagine a circular racetrack where two runners (slow and fast) start at the same point. The fast runner covers more ground in each step. If there's a loop, they will eventually meet at some point on the track. If there's no loop, the fast runner will reach the end of the track without encountering the slow runner."
      ],
      "metadata": {
        "id": "jV1HRAF0PPMV"
      }
    },
    {
      "cell_type": "code",
      "source": [
        "#For Node definition\n",
        "class ListNode:\n",
        "  def __init__(self, value=0, next=None):\n",
        "    self.value = value  # Data stored in the node\n",
        "    self.next = next    # Pointer to the next node\n",
        "\n",
        "\n",
        "#to find loop\n",
        "def has_cycle(node):\n",
        "  slow, fast = node, node  # Initialize two pointers at the head\n",
        "  while fast and fast.next:  # Loop until either pointer reaches the end\n",
        "    slow = slow.next         # Move slow pointer one step at a time\n",
        "    fast = fast.next.next    # Move fast pointer two steps at a time\n",
        "    if slow == fast:         # Check if they meet\n",
        "      return True            # Cycle detected\n",
        "  return False               # No cycle found\n",
        "\n",
        "\n",
        "node1 = ListNode(1)\n",
        "node2 = ListNode(2)\n",
        "node3 = ListNode(3)\n",
        "node4 = ListNode(4)\n",
        "\n",
        "node1.next = node2\n",
        "node2.next = node3\n",
        "node3.next = node4\n",
        "node4.next = node2  # This creates a cycle at node2\n",
        "\n",
        "# Calling the function\n",
        "has_cycle_result = has_cycle(node1)\n",
        "\n",
        "# Output: True\n",
        "print(f\"List with cycle: {has_cycle_result}\")\n"
      ],
      "metadata": {
        "colab": {
          "base_uri": "https://localhost:8080/"
        },
        "id": "_RuJsmFeRAuA",
        "outputId": "d10e5db0-34cd-4078-e352-03a6189bee97"
      },
      "execution_count": null,
      "outputs": [
        {
          "output_type": "stream",
          "name": "stdout",
          "text": [
            "List with cycle: True\n"
          ]
        }
      ]
    },
    {
      "cell_type": "markdown",
      "source": [
        "**6.Merge two Sorted  Linked List**\n",
        "\n",
        "Imagine the following train sequence:\n",
        "\n",
        "Engine (dummy node) -> Empty wagon (current pointer) -> Wagon filled with 1 (l1) -> Wagon filled with 3 (l1.next)\n",
        "\n",
        "\n",
        "After merging l1's first node:\n",
        "\n",
        "Engine (dummy node) -> Wagon filled with 1 (current.next) -> Empty wagon (current pointer) -> Wagon filled with 3 (l1.next)"
      ],
      "metadata": {
        "id": "ilZ-GXcuXYhw"
      }
    },
    {
      "cell_type": "code",
      "source": [
        "\n",
        "def merge_sorted_lists(l1,l2):\n",
        "  dummy = ListNode(0)\n",
        "  current = dummy\n",
        "\n",
        "  while l1 and l2: #until non -empty\n",
        "    if l1.value < l2.value:\n",
        "      current.next, l1=l1, l1.next\n",
        "    else:\n",
        "      current.next,l2=l2,l2.next\n",
        "    current = current.next\n",
        "\n",
        "  current.next = l1 or l2\n",
        "   #whichever becomes filled the remaining list appends at last with dummy.next\n",
        "\n",
        "  return dummy.next\n",
        "\n",
        "\n",
        "l1 = ListNode(1, ListNode(3, ListNode(5)))\n",
        "l2 = ListNode(2, ListNode(4, ListNode(6)))\n",
        "\n",
        "merged_list = merge_sorted_lists(l1, l2)\n",
        "\n",
        "current = merged_list\n",
        "while current:\n",
        "    print(current.value, end=\" -> \")\n",
        "    current = current.next\n",
        "print(\"None\")  # Indicate the end of the list\n",
        "\n",
        "\n",
        "# Output: 1 -> 2 -> 3 -> 4 -> 5 -> 6\n",
        "\n"
      ],
      "metadata": {
        "colab": {
          "base_uri": "https://localhost:8080/"
        },
        "id": "2zkgXTyYXbjy",
        "outputId": "bebea299-d6f4-4d24-eb41-8550832e118d"
      },
      "execution_count": null,
      "outputs": [
        {
          "output_type": "stream",
          "name": "stdout",
          "text": [
            "1 -> 2 -> 3 -> 4 -> 5 -> 6 -> None\n"
          ]
        }
      ]
    },
    {
      "cell_type": "markdown",
      "source": [
        "**7.Find the Middle of LinkedList**\n",
        "\n",
        "This is because fast covered twice the distance but stopped at the end, while slow covered half the distance and landed in the middle.\n"
      ],
      "metadata": {
        "id": "pyedTLWLfYdR"
      }
    },
    {
      "cell_type": "code",
      "source": [
        "def find_middle(node):\n",
        "  slow,fast = node,node\n",
        "  while fast and fast.next:\n",
        "    slow = slow.next #one step\n",
        "    fast = fast.next.next #double step\n",
        "  return slow\n",
        "\n",
        "node1 = ListNode(1)\n",
        "node2 = ListNode(2)\n",
        "node3 = ListNode(3)\n",
        "node4 = ListNode(4)\n",
        "node5 = ListNode(5)\n",
        "\n",
        "\n",
        "node1.next = node2\n",
        "node2.next = node3\n",
        "node3.next = node4\n",
        "node4.next = node5\n",
        "\n",
        "middle_node = find_middle(node1)\n",
        "\n",
        "print(middle_node.value)\n",
        "\n"
      ],
      "metadata": {
        "colab": {
          "base_uri": "https://localhost:8080/"
        },
        "id": "vwsiglR-fdu_",
        "outputId": "6b0ee4c8-4af9-42c1-f821-fa009663bde1"
      },
      "execution_count": null,
      "outputs": [
        {
          "output_type": "stream",
          "name": "stdout",
          "text": [
            "3\n"
          ]
        }
      ]
    },
    {
      "cell_type": "markdown",
      "source": [
        "**8.Find the maximum subarray sum using Kadane's algorithm**\n",
        "\n",
        "**Subarray:** A contiguous sequence of elements within an array.\n",
        "\n",
        "**Maximum Subarray Sum**: The goal is to find the subarray that has the largest sum among all possible subarrays within the given array.\n",
        "\n",
        "\n",
        "Set max_current to the first element of the array.\n",
        "\n",
        "Set max_global to the same value (initially assuming the largest sum might be just the first element).\n",
        "\n",
        "\n",
        "Loop through the array from the second element to the end.\n",
        "\n",
        "For each element nums[i]:\n",
        "Compare nums[i] alone to max_current + nums[i] (adding it to the current subarray).\n",
        "\n",
        "Choose the larger value and update max_current. This ensures we're always tracking the maximum sum ending at the current position.\n",
        "\n",
        "Update max_global if max_current becomes larger, as it might represent a new overall maximum subarray sum"
      ],
      "metadata": {
        "id": "q5fu1RpehTCY"
      }
    },
    {
      "cell_type": "code",
      "source": [
        "def max_subarray(nums):\n",
        "  max_current = max_global = nums[0]\n",
        "  for i in range (1,len(nums)):\n",
        "      max_current = max(nums[i],max_current+nums[i]) #add to previous i.e here -2+1\n",
        "      max_global = max(max_global,max_current) #1\n",
        "  return max_global\n",
        "\n",
        "nums = [-2, 1, -3, 4, -1, 2, 1, -5, 4]\n",
        "max_sum = max_subarray(nums)\n",
        "\n",
        "# Output: 6\n",
        "print(max_sum)  # Subarray [4, -1, 2, 1] has the maximum sum\n"
      ],
      "metadata": {
        "colab": {
          "base_uri": "https://localhost:8080/"
        },
        "id": "uM-htPSBg1fP",
        "outputId": "6bfb56e2-efe0-488b-9647-6b74994feb54"
      },
      "execution_count": null,
      "outputs": [
        {
          "output_type": "stream",
          "name": "stdout",
          "text": [
            "6\n"
          ]
        }
      ]
    },
    {
      "cell_type": "markdown",
      "source": [
        "**9.Check if a binary tree is balanced**\n",
        "\n",
        "**Balanced Tree Example**![Screenshot 2024-01-09 201744.png](data:image/png;base64,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)"
      ],
      "metadata": {
        "id": "s3s-zQ-TojRg"
      }
    },
    {
      "cell_type": "code",
      "source": [
        "class TreeNode:\n",
        "    def __init__(self, value=0, left=None, right=None):\n",
        "        self.value = value\n",
        "        self.left = left\n",
        "        self.right = right\n",
        "\n",
        "def is_balanced(root):\n",
        "    def check_balance(node):\n",
        "        if not node:\n",
        "            return 0, True\n",
        "        left_height, left_balanced = check_balance(node.left)\n",
        "        right_height, right_balanced = check_balance(node.right)\n",
        "        return max(left_height, right_height) + 1, left_balanced and right_balanced and abs(left_height - right_height) <= 1\n",
        "        # Return the current node's height and balance status.\n",
        "        # abs-> Ensure the difference between their heights is at most 1\n",
        "    return check_balance(root)[1]\n",
        "\n",
        "root = TreeNode(3)\n",
        "root.left = TreeNode(9)\n",
        "root.right = TreeNode(20)\n",
        "root.right.left = TreeNode(15)\n",
        "root.right.right = TreeNode(7)\n",
        "\n",
        "# Output: True\n",
        "print(is_balanced(root))\n",
        "\n",
        "\n",
        "root = TreeNode(1)\n",
        "root.left = TreeNode(2)\n",
        "root.left.left = TreeNode(3)\n",
        "root.left.left.left = TreeNode(4)  # Left subtree becomes too deep\n",
        "\n",
        "# Output: False\n",
        "print(is_balanced(root))\n"
      ],
      "metadata": {
        "colab": {
          "base_uri": "https://localhost:8080/"
        },
        "id": "w2xLrCqfogde",
        "outputId": "83d5a305-ae0a-4acb-f6b5-75484275d7ba"
      },
      "execution_count": null,
      "outputs": [
        {
          "output_type": "stream",
          "name": "stdout",
          "text": [
            "True\n",
            "False\n"
          ]
        }
      ]
    },
    {
      "cell_type": "markdown",
      "source": [
        "**10.Breadth-first Search approach (BFS) in Graph**\n",
        "\n",
        "BFS is often used for finding shortest paths in unweighted graphs.\n",
        "\n",
        "queue.extend(graph[vertex] - visited):\n",
        "\n",
        "Adds all unvisited neighbors of the node to the queue."
      ],
      "metadata": {
        "id": "nBWHDyMfvmxr"
      }
    },
    {
      "cell_type": "code",
      "source": [
        "from collections import deque\n",
        "\n",
        "def bfs(graph, start):\n",
        "    visited = set()\n",
        "    queue = deque([start])\n",
        "    while queue:\n",
        "        vertex = queue.popleft()\n",
        "        if vertex not in visited:\n",
        "            visited.add(vertex)\n",
        "            queue.extend([neighbor for neighbor in graph[vertex] if neighbor not in visited])\n",
        "    return visited\n",
        "# graph[vertex] -> list\n",
        "# visited = set\n",
        "\n",
        "graph = {\n",
        "  'A': ['B', 'C'],\n",
        "  'B': ['D', 'E'],\n",
        "  'C': ['F'],\n",
        "  'D': [],\n",
        "  'E': ['F'],\n",
        "  'F': []\n",
        "}\n",
        "\n",
        "visited = bfs(graph, 'A')\n",
        "print(visited)\n",
        "# Output: {'A', 'B', 'C', 'D', 'E', 'F'} if visited is a list\n",
        "# Output: {'F', 'B', 'C', 'E', 'D', 'A'} if visited is a set\n",
        "\n"
      ],
      "metadata": {
        "colab": {
          "base_uri": "https://localhost:8080/"
        },
        "id": "8uptKp1WvslU",
        "outputId": "e68589d6-27cc-4a0f-e70e-3c1eb32fe92d"
      },
      "execution_count": null,
      "outputs": [
        {
          "output_type": "stream",
          "name": "stdout",
          "text": [
            "{'F', 'B', 'C', 'E', 'D', 'A'}\n"
          ]
        }
      ]
    },
    {
      "cell_type": "markdown",
      "source": [
        "**11.Depth first search**\n",
        "\n",
        "\n",
        "BFS prioritizes exploring nodes closest to the starting point, while DFS prioritizes exploring deeper paths first.\n"
      ],
      "metadata": {
        "id": "pTq8HlYC6yvX"
      }
    },
    {
      "cell_type": "code",
      "source": [
        "\n",
        "def dfs(graph, start):\n",
        "    visited = set()\n",
        "    stack = [start]\n",
        "    while stack:\n",
        "        vertex = stack.pop()\n",
        "        if vertex not in visited:\n",
        "            visited.add(vertex)\n",
        "            stack.extend([neighbor for neighbor in graph[vertex] if neighbor not in visited])  # Add unvisited neighbors\n",
        "    return visited\n",
        "\n",
        "\n",
        "graph = {\n",
        "  'A': ['B', 'D'],\n",
        "  'B': ['C', 'E'],\n",
        "  'C': ['F'],\n",
        "  'D': ['A'],\n",
        "  'E': ['B'],\n",
        "  'F': []\n",
        "}\n",
        "\n",
        "visited = dfs(graph, 'A')\n",
        "print(visited)  # Output: {'A', 'B', 'E', 'C', 'F', 'D'}\n",
        "#Sets are inherently unordered, so the specific arrangement of\n",
        "#elements within the set might vary across runs."
      ],
      "metadata": {
        "colab": {
          "base_uri": "https://localhost:8080/"
        },
        "id": "RECijTIBFSQO",
        "outputId": "306ae3ce-8ef6-487d-926c-e71f9ce9834a"
      },
      "execution_count": null,
      "outputs": [
        {
          "output_type": "stream",
          "name": "stdout",
          "text": [
            "{'F', 'B', 'C', 'E', 'D', 'A'}\n"
          ]
        }
      ]
    },
    {
      "cell_type": "markdown",
      "source": [
        "**12.Implement a stack using linked list.**"
      ],
      "metadata": {
        "id": "DiMw4pV2FWKq"
      }
    },
    {
      "cell_type": "code",
      "source": [
        "class StackNode:\n",
        "    def __init__(self, value=0, next=None):\n",
        "        self.value = value\n",
        "        self.next = next\n",
        "\n",
        "class Stack:\n",
        "    def __init__(self):\n",
        "        self.top = None\n",
        "\n",
        "    def push(self, value):\n",
        "        self.top = StackNode(value, self.top)\n",
        "\n",
        "    def pop(self):\n",
        "        if not self.top:\n",
        "            return None\n",
        "        value = self.top.value\n",
        "        self.top = self.top.next\n",
        "        return value\n",
        "\n",
        "    def peek(self):\n",
        "        return None if not self.top else self.top.value\n",
        "\n",
        "    def is_empty(self):\n",
        "        return self.top is None\n",
        "\n",
        "stack = Stack()\n",
        "stack.push(5)\n",
        "stack.push(3)\n",
        "stack.push(7)\n",
        "\n",
        "print(stack.pop())   # Output: 7\n",
        "print(stack.peek())  # Output: 3\n",
        "print(stack.is_empty())  # Output: False\n",
        "\n"
      ],
      "metadata": {
        "colab": {
          "base_uri": "https://localhost:8080/"
        },
        "id": "nk48aSi7FYvb",
        "outputId": "0e7eba92-9bff-4931-da41-71173cad2391"
      },
      "execution_count": null,
      "outputs": [
        {
          "output_type": "stream",
          "name": "stdout",
          "text": [
            "7\n",
            "3\n",
            "False\n"
          ]
        }
      ]
    },
    {
      "cell_type": "markdown",
      "source": [
        "**13.Implement a queue using two stacks.**\n",
        "\n",
        "Simulate a queue's first-in, first-out (FIFO) behavior using two stacks, which are inherently i.e stacks by default\n",
        " are last-in, first-out (LIFO)."
      ],
      "metadata": {
        "id": "-RoMLC7OFd7o"
      }
    },
    {
      "cell_type": "code",
      "source": [
        "class Queue:\n",
        "    def __init__(self):\n",
        "        self.stack1 = []\n",
        "        self.stack2 = []\n",
        "\n",
        "    def enqueue(self, value):\n",
        "        self.stack1.append(value)\n",
        "\n",
        "    def dequeue(self):\n",
        "        if not self.stack2: #if stack2 is empty\n",
        "            while self.stack1:\n",
        "                self.stack2.append(self.stack1.pop())\n",
        "# Transfers all elements from stack1 to stack2, reversing their order (LIFO to FIFO).\n",
        "        return self.stack2.pop() if self.stack2 else None\n",
        "#Pops and returns the top element from stack2 (FIFO behavior).\n",
        "# Returns None if both stacks are empty.\n",
        "\n",
        "\n",
        "queue = Queue()\n",
        "queue.enqueue(10)\n",
        "queue.enqueue(5)\n",
        "queue.enqueue(15)\n",
        "#this append will saved in stack1  ,then last in first out goes to stack2\n",
        "#stack2 ->(15,5,10)\n",
        "#dequeue -> Last in last out\n",
        "#Becomes now FIFO\n",
        "print(queue.dequeue())   # Output: 10\n",
        "queue.enqueue(20)\n",
        "print(queue.dequeue())   # Output: 5\n",
        "print(queue.dequeue())   # Output: 15\n",
        "print(queue.dequeue())   # Output: 20\n",
        "print(queue.dequeue())   # Output: None (queue is empty)\n"
      ],
      "metadata": {
        "colab": {
          "base_uri": "https://localhost:8080/"
        },
        "id": "l-K4brOzFhvt",
        "outputId": "9c8074d5-04a6-4e80-e17b-453978417e1f"
      },
      "execution_count": null,
      "outputs": [
        {
          "output_type": "stream",
          "name": "stdout",
          "text": [
            "10\n",
            "5\n",
            "15\n",
            "20\n",
            "None\n"
          ]
        }
      ]
    },
    {
      "cell_type": "markdown",
      "source": [
        "**14.Implement binary search for a sorted list**\n",
        "\n",
        "The binary search divides the input array by half at every step. After every step, either we find the index we are looking for, or we discard half of the array.\n",
        "\n",
        "https://www.educative.io/courses/coderust-hacking-the-coding-interview/implement-binary-search-on-a-sorted-array"
      ],
      "metadata": {
        "id": "daPrx_kIKHA9"
      }
    },
    {
      "cell_type": "code",
      "source": [
        "def binary_search(arr, x):\n",
        "    l, r = 0, len(arr) - 1\n",
        "    while l <= r:\n",
        "        mid = (l + r) // 2\n",
        "        if arr[mid] == x:\n",
        "            return mid\n",
        "        elif arr[mid] < x:\n",
        "            l = mid + 1\n",
        "        else:\n",
        "            r = mid - 1\n",
        "    return -1  # as low is greater than high means didnt find the target but found range\n",
        "\n",
        "\n",
        "arr = [2, 5, 7, 10, 15, 20]\n",
        "x = 15 #target\n",
        "\n",
        "result = binary_search(arr, x)\n",
        "print(result)  # Output: 4\n"
      ],
      "metadata": {
        "id": "PfNcYB5uKK5R"
      },
      "execution_count": null,
      "outputs": []
    },
    {
      "cell_type": "markdown",
      "source": [
        "**15.Find First and Last Position of Element in Sorted Array**\n",
        "\n",
        "find_left_boundary(nums, target):\n",
        "\n",
        "Finds the leftmost index of the target value using binary search.\n",
        "\n",
        "If the target isn't found, returns the index where it would be inserted.\n",
        "\n",
        "search_range(nums, target):\n",
        "\n",
        "Calls find_left_boundary twice to find the left and right boundaries of the target range.\n",
        "\n",
        "Returns the [left, right] range if found, otherwise [-1, -1].\n",
        "\n"
      ],
      "metadata": {
        "id": "wpxPCWieOOon"
      }
    },
    {
      "cell_type": "code",
      "source": [
        "def search_range(nums, target):\n",
        "    def find_left_boundary(nums, target):\n",
        "        left, right = 0, len(nums) - 1\n",
        "        while left <= right:\n",
        "            mid = (left + right) // 2\n",
        "            if nums[mid] < target:\n",
        "                left = mid + 1\n",
        "            else:\n",
        "                right = mid - 1\n",
        "        return left\n",
        "\n",
        "    left, right = find_left_boundary(nums, target), find_left_boundary(nums, target + 1) - 1\n",
        "    if left <= right:\n",
        "        return [left, right]\n",
        "    return [-1, -1]\n",
        "\n",
        "\n",
        "arr = [5, 7, 7, 8, 8, 10]\n",
        "target = 8\n",
        "\n",
        "result = search_range(arr, target)\n",
        "print(result)  # Output: [3, 4]\n",
        "\n",
        "\n",
        "nums = [5, 7, 7, 8, 8, 10]\n",
        "target = 6\n",
        "\n",
        "result = search_range(arr, target)\n",
        "print(result)  # Output: [-1, -1]\n"
      ],
      "metadata": {
        "colab": {
          "base_uri": "https://localhost:8080/"
        },
        "id": "I5Ipq7cAOYEI",
        "outputId": "b432a2eb-5438-43f9-b9d4-6a5ab4527298"
      },
      "execution_count": null,
      "outputs": [
        {
          "output_type": "stream",
          "name": "stdout",
          "text": [
            "[3, 4]\n",
            "[-1, -1]\n"
          ]
        }
      ]
    },
    {
      "cell_type": "markdown",
      "source": [
        "**16.Implement a priority queue using heap**\n",
        "\n",
        "https://www.geeksforgeeks.org/difference-between-heaps-and-sorted-array/\n",
        "\n",
        "https://www.geeksforgeeks.org/how-to-implement-priority-queue-using-heap-or-array/"
      ],
      "metadata": {
        "id": "BXeEHca6g6mp"
      }
    },
    {
      "cell_type": "code",
      "source": [
        "import heapq\n",
        "\n",
        "class PriorityQueue:\n",
        "    def __init__(self):\n",
        "        self.queue = []\n",
        "\n",
        "    def enqueue(self, value, priority=0):\n",
        "        heapq.heappush(self.queue, (priority, value))\n",
        "\n",
        "    def dequeue(self):\n",
        "        return heapq.heappop(self.queue)[1] if self.queue else None\n",
        "\n",
        "pq = PriorityQueue()\n",
        "pq.enqueue(\"Task A\", 3) #(value,priority) -> tuple\n",
        "pq.enqueue(\"Task B\", 1)\n",
        "pq.enqueue(\"Task C\", 2)\n",
        "\n",
        "print(pq.dequeue())   # Output: Task B (has lowest priority 1)\n",
        "pq.enqueue(\"Task D\", 4)\n",
        "\n",
        "print(pq.dequeue())   # Output: Task C (next lowest priority 2)\n",
        "print(pq.dequeue())   # Output: Task A (priority 3)\n",
        "print(pq.dequeue())   # Output: Task D (highest priority 4)\n"
      ],
      "metadata": {
        "id": "_emATce-QJvW",
        "colab": {
          "base_uri": "https://localhost:8080/"
        },
        "outputId": "ba98f8a8-4f3b-4a49-88be-0d440427cff3"
      },
      "execution_count": null,
      "outputs": [
        {
          "output_type": "stream",
          "name": "stdout",
          "text": [
            "Task B\n",
            "Task C\n",
            "Task A\n",
            "Task D\n"
          ]
        }
      ]
    },
    {
      "cell_type": "markdown",
      "source": [
        "**17.Implement a simple hashmap**\n",
        "\n",
        "https://www.geeksforgeeks.org/what-are-hash-functions-and-how-to-choose-a-good-hash-function/\n",
        "\n",
        "https://www.geeksforgeeks.org/hash-map-in-python/\n",
        "\n"
      ],
      "metadata": {
        "id": "nZu7M_rDrQFH"
      }
    },
    {
      "cell_type": "code",
      "source": [
        "class Hashmap:\n",
        "    def __init__(self):\n",
        "        self.size = 1000\n",
        "        self.map = [None] * self.size\n",
        "\n",
        "    def _hash(self, key):\n",
        "        return hash(key) % self.size\n",
        "\n",
        "    def put(self, key, value):\n",
        "        key_hash = self._hash(key)\n",
        "        self.map[key_hash] = value\n",
        "\n",
        "    def get(self, key):\n",
        "        key_hash = self._hash(key)\n",
        "        return self.map[key_hash] #returns value\n",
        "\n",
        "    def remove(self, key):\n",
        "        key_hash = self._hash(key)\n",
        "        self.map[key_hash] = None\n",
        "\n",
        "hashmap = Hashmap()\n",
        "hashmap.put(\"name\", \"Alice\")\n",
        "hashmap.put(\"age\", 30)\n",
        "\n",
        "print(hashmap.get(\"name\"))   # Output: Alice\n",
        "hashmap.remove(\"age\")\n",
        "print(hashmap.get(\"age\"))   # Output: None\n",
        "\n"
      ],
      "metadata": {
        "colab": {
          "base_uri": "https://localhost:8080/"
        },
        "id": "MFpvS0RKrX1K",
        "outputId": "95f3a472-8010-4494-abad-0d7bc6786fef"
      },
      "execution_count": null,
      "outputs": [
        {
          "output_type": "stream",
          "name": "stdout",
          "text": [
            "Alice\n",
            "None\n"
          ]
        }
      ]
    },
    {
      "cell_type": "markdown",
      "source": [
        "**18.(Prefix Tree) Implement a basic trie for word insert, search and prefix search.**\n",
        "\n",
        "https://www.geeksforgeeks.org/trie-insert-and-search/"
      ],
      "metadata": {
        "id": "EVgVhuu0yA3s"
      }
    },
    {
      "cell_type": "code",
      "source": [
        "class TrieNode:\n",
        "    def __init__(self):\n",
        "        self.children = {}\n",
        "        self.is_end_of_word = False\n",
        "\n",
        "class Trie:\n",
        "    def __init__(self):\n",
        "        self.root = TrieNode()\n",
        "\n",
        "    def insert(self, word):\n",
        "        node = self.root\n",
        "        for char in word:\n",
        "            if char not in node.children:\n",
        "                node.children[char] = TrieNode()\n",
        "                #Traverses the trie, creating nodes for characters as needed.\n",
        "            node = node.children[char] #moves to next pos\n",
        "        node.is_end_of_word = True\n",
        "\n",
        "    def search(self, word):\n",
        "        node = self.root\n",
        "        for char in word:\n",
        "            if char not in node.children:\n",
        "                return False\n",
        "            node = node.children[char]\n",
        "        return node.is_end_of_word\n",
        "\n",
        "    def starts_with(self, prefix):\n",
        "        node = self.root\n",
        "        for char in prefix:\n",
        "            if char not in node.children:\n",
        "                return False\n",
        "            node = node.children[char]\n",
        "        return True\n",
        "\n",
        "trie = Trie()\n",
        "trie.insert(\"apple\")\n",
        "trie.insert(\"ape\")\n",
        "trie.insert(\"application\")\n",
        "\n",
        "print(trie.search(\"apple\"))   # Output: True\n",
        "print(trie.search(\"ape\"))     # Output: True\n",
        "print(trie.search(\"app\"))     # Output: False\n",
        "print(trie.starts_with(\"app\"))  # Output: True\n",
        "\n"
      ],
      "metadata": {
        "colab": {
          "base_uri": "https://localhost:8080/"
        },
        "id": "zYfqVPN5yEZ6",
        "outputId": "63daf27c-24c2-42bd-fa22-09a1cf6d9369"
      },
      "execution_count": null,
      "outputs": [
        {
          "output_type": "stream",
          "name": "stdout",
          "text": [
            "True\n",
            "True\n",
            "False\n",
            "True\n"
          ]
        }
      ]
    },
    {
      "cell_type": "markdown",
      "source": [
        "**19.Implement a topological sort for a directed graph.**\n",
        "\n",
        "https://www.geeksforgeeks.org/topological-sorting/\n",
        "\n",
        "In DFS, we print a vertex and then recursively call DFS for its adjacent vertices. In topological sorting, we need to print a vertex before its adjacent vertices.\n",
        "\n",
        "vertex -> no incoming edges"
      ],
      "metadata": {
        "id": "5vnV161f5Ioi"
      }
    },
    {
      "cell_type": "code",
      "source": [
        "from collections import defaultdict, deque\n",
        "\n",
        "def topological_sort(vertices, edges):\n",
        "    graph = defaultdict(list)\n",
        "    in_degree = {v: 0 for v in vertices} #initailise with no incoming edge\n",
        "# all vertices set in_degree to 0 ata start\n",
        "    for u, v in edges: #tuple (A,B) -> (u,v)\n",
        "        graph[u].append(v)\n",
        "# defaultdict(<class 'list'>, {'A': ['B'], 'B': ['C'], 'C': ['D'], 'D': ['E'], 'E': ['A']})\n",
        "        in_degree[v] += 1\n",
        "# \"A\"\t1\n",
        "# \"B\"\t1\n",
        "# \"C\"\t1\n",
        "# \"D\"\t1\n",
        "# \"E\"\t1\n",
        "\n",
        "\n",
        "    queue = deque([v for v, d in in_degree.items() if d == 0])\n",
        "    order = []\n",
        "\n",
        "    while queue: #loop over deque instance\n",
        "        vertex = queue.popleft() #remove already added,temp empty deque\n",
        "        order.append(vertex)\n",
        "        for neighbor in graph[vertex]:\n",
        "            in_degree[neighbor] -= 1\n",
        "            if in_degree[neighbor] == 0:\n",
        "                queue.append(neighbor) #enqueue\n",
        "\n",
        "    return order if len(order) == len(vertices) else []\n",
        "\n",
        "vertices = [\"A\", \"B\", \"C\", \"D\", \"E\"]\n",
        "edges = [(\"A\", \"B\"), (\"B\", \"C\"), (\"C\", \"D\"), (\"D\", \"E\"), (\"E\", \"A\")]\n",
        "\n",
        "sorted_order = topological_sort(vertices, edges)\n",
        "\n",
        "if sorted_order:\n",
        "  print(\"Topological sort:\", \", \".join(sorted_order)) #directed acyclic\n",
        "else:\n",
        "  print(\"Cycle detected, no topological sort possible.\")\n",
        "\n",
        "\n",
        "vertices = [\"A\", \"B\", \"C\", \"D\", \"E\"]\n",
        "edges = [(\"A\", \"B\"), (\"B\", \"C\"), (\"C\", \"D\"), (\"D\", \"E\"), (\"B\", \"E\")]\n",
        "\n",
        "sorted_order = topological_sort(vertices, edges)\n",
        "\n",
        "if sorted_order:\n",
        "  print(\"Topological sort:\", \", \".join(sorted_order)) #directed acyclic\n",
        "else:\n",
        "  print(\"Cycle detected, no topological sort possible.\")\n"
      ],
      "metadata": {
        "colab": {
          "base_uri": "https://localhost:8080/"
        },
        "id": "xib1uE3H5VDr",
        "outputId": "11318d71-d940-4626-acc3-d37c5fa108e7"
      },
      "execution_count": null,
      "outputs": [
        {
          "output_type": "stream",
          "name": "stdout",
          "text": [
            "Cycle detected, no topological sort possible.\n",
            "Topological sort: A, B, C, D, E\n"
          ]
        }
      ]
    },
    {
      "cell_type": "markdown",
      "source": [
        "**20.Check if a String Contains All Binary Codes of Size K**\n",
        "\n",
        "Given a binary string s and an integer k, check if all binary codes of length k is a substring of s.\n"
      ],
      "metadata": {
        "id": "r_MBfX-JMb7L"
      }
    },
    {
      "cell_type": "code",
      "source": [
        "def has_all_binary_codes(s, k):\n",
        "    needed = 1 << k #bitwise left shift,  so needed =4\n",
        "    #effectively when dng bitwise op. left 2^^k is happening internally\n",
        "    seen = set()\n",
        "\n",
        "    for i in range(len(s) - k + 1): #(4-2+1)\n",
        "        substring = s[i:i+k] #with size of k like a stride or no.of sub at a time\n",
        "        if substring not in seen:\n",
        "            seen.add(substring) #add as it is a set\n",
        "            needed -= 1 #decrements in each i iter 4,3,2,1,0\n",
        "            if needed == 0:\n",
        "                return True\n",
        "    return False\n",
        "\n",
        "s = \"00110110\"\n",
        "k = 2  # \"00\" \"01\" \"10\" \"11\"\n",
        "result = has_all_binary_codes(s, k)\n",
        "print(result)  # Output: True\n"
      ],
      "metadata": {
        "colab": {
          "base_uri": "https://localhost:8080/"
        },
        "id": "xbTP4mPnMkHv",
        "outputId": "4d4fd6d3-0334-4368-a2f2-30db13070a77"
      },
      "execution_count": null,
      "outputs": [
        {
          "output_type": "stream",
          "name": "stdout",
          "text": [
            "True\n"
          ]
        }
      ]
    },
    {
      "cell_type": "markdown",
      "source": [
        "**21.Quicksort**"
      ],
      "metadata": {
        "id": "NHfyR4CHSNlG"
      }
    },
    {
      "cell_type": "code",
      "source": [
        "def quicksort(arr):\n",
        "    if len(arr) <= 1:\n",
        "        return arr\n",
        "    pivot = arr[len(arr) // 2]\n",
        "    left = [x for x in arr if x < pivot]\n",
        "    middle = [x for x in arr if x == pivot]\n",
        "    right = [x for x in arr if x > pivot]\n",
        "    return quicksort(left) + middle + quicksort(right)\n",
        "\n",
        "arr = [6, 2, 8, 4, 5, 1]\n",
        "sorted_arr = quicksort(arr)\n",
        "print(sorted_arr)  # Output: [1, 2, 4, 5, 6, 8]\n"
      ],
      "metadata": {
        "colab": {
          "base_uri": "https://localhost:8080/"
        },
        "id": "1hdAs-QLSQQ1",
        "outputId": "27b1c1fb-d229-4a52-c157-6b26c7c992d3"
      },
      "execution_count": null,
      "outputs": [
        {
          "output_type": "stream",
          "name": "stdout",
          "text": [
            "[1, 2, 4, 5, 6, 8]\n"
          ]
        }
      ]
    },
    {
      "cell_type": "markdown",
      "source": [
        "**22.Implement MergeSort**"
      ],
      "metadata": {
        "id": "7pfuGfgUT-oH"
      }
    },
    {
      "cell_type": "code",
      "source": [
        "def mergesort(arr):\n",
        "    if len(arr) <= 1:\n",
        "        return arr\n",
        "    mid = len(arr) // 2\n",
        "    left = arr[:mid]\n",
        "    right = arr[mid:]\n",
        "    return merge(mergesort(left), mergesort(right))\n",
        "\n",
        "def merge(left, right):\n",
        "    result = []\n",
        "    i = j = 0\n",
        "    while i < len(left) and j < len(right):\n",
        "        if left[i] < right[j]:\n",
        "            result.append(left[i])\n",
        "            i += 1\n",
        "        else:\n",
        "            result.append(right[j])\n",
        "            j += 1\n",
        "    result.extend(left[i:])\n",
        "    result.extend(right[j:])\n",
        "    return result\n",
        "arr = [6, 2, 8, 4, 5, 1]\n",
        "sorted_arr = mergesort(arr)\n",
        "print(sorted_arr)  # Output: [1, 2, 4, 5, 6, 8]\n"
      ],
      "metadata": {
        "colab": {
          "base_uri": "https://localhost:8080/"
        },
        "id": "z9tIo8H5UAMC",
        "outputId": "c668f335-61e4-48a0-a47a-02b72480b308"
      },
      "execution_count": null,
      "outputs": [
        {
          "output_type": "stream",
          "name": "stdout",
          "text": [
            "[1, 2, 4, 5, 6, 8]\n"
          ]
        }
      ]
    },
    {
      "cell_type": "markdown",
      "source": [
        "**23.Find the maximum depth of a binary tree.**"
      ],
      "metadata": {
        "id": "qJKY8lewe6Ix"
      }
    },
    {
      "cell_type": "code",
      "source": [
        "def max_depth(root):\n",
        "    if not root:\n",
        "        return 0\n",
        "    left_depth = max_depth(root.left)\n",
        "    right_depth = max_depth(root.right)\n",
        "    return max(left_depth, right_depth) + 1\n",
        "#Tree with Only a Root: If a tree has only a root node, its depth is 1 (the root itself).\n",
        "#needs to add 1 to account for the root node connecting those subtrees\n",
        "\n",
        "class Node:\n",
        "  def __init__(self, value):\n",
        "    self.value = value\n",
        "    self.left = None\n",
        "    self.right = None\n",
        "\n",
        "root = Node(1)\n",
        "root.left = Node(2)\n",
        "root.left.left = Node(4)\n",
        "root.left.right = Node(5)\n",
        "root.right = Node(3)\n",
        "root.right.left = Node(6)\n",
        "root.right.right = Node(7)\n",
        "\n",
        "depth = max_depth(root)\n",
        "print(depth)  # Output: 3\n",
        "\n"
      ],
      "metadata": {
        "colab": {
          "base_uri": "https://localhost:8080/"
        },
        "id": "_06mfyume8LY",
        "outputId": "82c8d245-84b3-46a7-ce89-77883a365884"
      },
      "execution_count": null,
      "outputs": [
        {
          "output_type": "stream",
          "name": "stdout",
          "text": [
            "3\n"
          ]
        }
      ]
    },
    {
      "cell_type": "markdown",
      "source": [
        "**24.Longest Increasing subsequence**(LIS)\n",
        "\n",
        "Given an unsorted array of integers, find the length of longest increasing subsequence.\n",
        "\n",
        "Dynamic Programming (DP): A technique for solving problems by breaking them down into smaller subproblems and storing results to avoid redundant calculations.\n"
      ],
      "metadata": {
        "id": "LoCcf0XhhZfg"
      }
    },
    {
      "cell_type": "code",
      "source": [
        "def length_of_lis(arr):\n",
        "    if not arr:\n",
        "        return 0 #empty\n",
        "\n",
        "    dp = [1] * len(arr) #Dynamic Programming (DP) table\n",
        "# Create a DP table dp with the same length as the array.\n",
        "# Initialize each dp[i] to 1, representing the minimum possible LIS ending at index i (just the element itself).\n",
        "    for i in range(len(arr)):\n",
        "        for j in range(i):\n",
        "            if arr[i] > arr[j]:\n",
        "                dp[i] = max(dp[i], dp[j] + 1)\n",
        "\n",
        "    return max(dp)\n",
        "\n",
        "arr = [10, 9, 2, 5, 3, 7, 101, 18]\n",
        "lis_length = length_of_lis(arr)\n",
        "print(lis_length)  # Output: 4\n"
      ],
      "metadata": {
        "colab": {
          "base_uri": "https://localhost:8080/"
        },
        "id": "r-Rw1roMhegL",
        "outputId": "cab9a62a-f1bf-48fc-c08a-74932a2f6e3a"
      },
      "execution_count": null,
      "outputs": [
        {
          "output_type": "stream",
          "name": "stdout",
          "text": [
            "4\n"
          ]
        }
      ]
    },
    {
      "cell_type": "markdown",
      "source": [
        "**25.Write a function to find the longest common prefix string amongst an array of strings. If there is no common prefix, return an empty string \"\"**"
      ],
      "metadata": {
        "id": "UtLMheTBoN5l"
      }
    },
    {
      "cell_type": "code",
      "source": [
        "def longest_common_prefix(strs):\n",
        "    if not strs:\n",
        "        return \"\"\n",
        "\n",
        "    prefix = strs[0] #flower\n",
        "    for s in strs[1:]: #flow,flight\n",
        "        i = 0\n",
        "        #length of prefix = 6->string length\n",
        "        #len(s) -> 4 ,so upto i=4 it will iter\n",
        "        while i < len(prefix) and i < len(s) and prefix[i] == s[i]:\n",
        "            i += 1\n",
        "        prefix = prefix[:i] #in first iter prefix=f,prefix iter 2 = fl\n",
        "    return prefix\n",
        "strs = [\"flower\", \"flow\", \"flotty\"]\n",
        "common_prefix = longest_common_prefix(strs)\n",
        "print(common_prefix)  # Output: \"fl\"\n"
      ],
      "metadata": {
        "colab": {
          "base_uri": "https://localhost:8080/"
        },
        "id": "SDiEL5AaomSl",
        "outputId": "47fad46f-e682-4150-c6f6-4b26bb20c798"
      },
      "execution_count": null,
      "outputs": [
        {
          "output_type": "stream",
          "name": "stdout",
          "text": [
            "flo\n"
          ]
        }
      ]
    },
    {
      "cell_type": "markdown",
      "source": [
        "**26.Check for Balanced Parentheses**\n",
        "\n",
        "\n",
        " Given a string containing just the characters '(', ')', '{', '}', '[' and ']', determine if the input string is valid. An input string is valid if brackets are closed in the correct order."
      ],
      "metadata": {
        "id": "Z_7pOI6ktKXE"
      }
    },
    {
      "cell_type": "code",
      "source": [
        "def is_valid(s):\n",
        "    stack = []\n",
        "    mapping = {\")\": \"(\", \"}\": \"{\", \"]\": \"[\"}\n",
        "\n",
        "    for char in s:\n",
        "        if char in mapping:\n",
        "            top_element = stack.pop() if stack else '#'  #return top value\n",
        "            if mapping[char] != top_element: #has to be a key i.e fist element\n",
        "#If it's an opening parenthesis ((, {, or [):\n",
        "# Push it onto the stack (pending closing pair).\n",
        "                return False\n",
        "        else:\n",
        "            stack.append(char)\n",
        "\n",
        "    return not stack\n",
        "\n",
        "\n",
        "s = \"({[]})\"\n",
        "balanced = is_valid(s)\n",
        "print(balanced)  # Output: True\n",
        "\n",
        "s2 = \"([)]\"\n",
        "balanced2 = is_valid(s2)\n",
        "print(balanced2)  # Output: False\n"
      ],
      "metadata": {
        "colab": {
          "base_uri": "https://localhost:8080/"
        },
        "id": "g_2-G_PRs0Fe",
        "outputId": "b48c14fb-c321-4984-dec0-4796face314f"
      },
      "execution_count": null,
      "outputs": [
        {
          "output_type": "stream",
          "name": "stdout",
          "text": [
            "True\n",
            "False\n"
          ]
        }
      ]
    },
    {
      "cell_type": "markdown",
      "source": [
        "**27.Intersection of Two Arrays**\n",
        "\n",
        " Given two arrays, write a function to compute their intersection. Each element in the result should appear as many times as it shows in both arrays. The result can be in any order.\n",
        "\n"
      ],
      "metadata": {
        "id": "cvfODTY7wn6V"
      }
    },
    {
      "cell_type": "code",
      "source": [
        "from collections import Counter\n",
        "\n",
        "def intersect(arr1, arr2):\n",
        "    c1, c2 = Counter(arr1), Counter(arr2)\n",
        "    return list((c1 & c2).elements())\n",
        "\n",
        "\n",
        "\n",
        "\n",
        "arr1 = [1, 2, 2, 1,2,4]\n",
        "arr2 = [2, 2, 3, 4]\n",
        "intersection = intersect(arr1, arr2)\n",
        "print(intersection)  # Output: [2, 2]\n"
      ],
      "metadata": {
        "colab": {
          "base_uri": "https://localhost:8080/"
        },
        "id": "8VhTRnkXw97V",
        "outputId": "07349628-8aee-41b2-8191-d888c6d25386"
      },
      "execution_count": null,
      "outputs": [
        {
          "output_type": "stream",
          "name": "stdout",
          "text": [
            "[2, 2, 4]\n"
          ]
        }
      ]
    },
    {
      "cell_type": "markdown",
      "source": [
        "**28.Given a non-empty array of integers nums, every element appears twice except for one. Find that single one.**"
      ],
      "metadata": {
        "id": "qLYbNTjS3BpJ"
      }
    },
    {
      "cell_type": "code",
      "source": [
        "def single_number(arr):\n",
        "   res = 0\n",
        "   for num in arr:\n",
        "     res ^= num\n",
        "   return res\n",
        "\n",
        "nums = [2, 2, 1, 4, 4]\n",
        "single_num = single_number(nums)\n",
        "print(single_num)  # Output: 1\n"
      ],
      "metadata": {
        "colab": {
          "base_uri": "https://localhost:8080/"
        },
        "id": "vPQ1XUCR3B2c",
        "outputId": "0a8a3b36-b908-430d-fe3c-a578494f4fd3"
      },
      "execution_count": null,
      "outputs": [
        {
          "output_type": "stream",
          "name": "stdout",
          "text": [
            "1\n"
          ]
        }
      ]
    },
    {
      "cell_type": "markdown",
      "source": [
        "**29.Given an array, rotate the array to the right by k steps, where k is non-negative.**\n",
        "\n"
      ],
      "metadata": {
        "id": "1sinwUfx4JWS"
      }
    },
    {
      "cell_type": "code",
      "source": [
        "def rotate_array(arr,k):\n",
        "   k %= len(arr)\n",
        "   arr[:] = arr[-k:] + arr[:-k]\n",
        "\n",
        "nums = [1, 2, 3, 4, 5, 6, 7]\n",
        "k = 3\n",
        "rotate_array(nums, k)\n",
        "print(nums)  # Output: [5, 6, 7, 1, 2, 3, 4]\n",
        "\n",
        "nums = [1, 2, 3, 4, 5, 6, 7]\n",
        "k = 10\n",
        "rotate_array(nums, k)\n",
        "print(nums)  # Output: [5, 6, 7, 1, 2, 3, 4] -> Modulo ensures k within bound\n",
        "#So rotated array remains same\n",
        "\n",
        "# Handle Excess k:\n",
        "# Calculate k % len(nums) to ensure k is within the array's bounds (prevents unnecessary rotations).\n",
        "# Slice and Concatenate:\n",
        "# Create a new slice of the array containing the last k elements: nums[-k:].\n",
        "# Create another slice with the remaining elements: nums[:-k].\n",
        "# Concatenate these slices in reverse order: nums[-k:] + nums[:-k].\n",
        "# Assign this combined slice back to nums[:], efficiently\n",
        "#  overwriting the entire array with the rotated result."
      ],
      "metadata": {
        "colab": {
          "base_uri": "https://localhost:8080/"
        },
        "id": "oQf1GjWL4Phg",
        "outputId": "1b66891f-c32c-4cef-f618-e8e3383c116d"
      },
      "execution_count": null,
      "outputs": [
        {
          "output_type": "stream",
          "name": "stdout",
          "text": [
            "[5, 6, 7, 1, 2, 3, 4]\n",
            "[5, 6, 7, 1, 2, 3, 4]\n"
          ]
        }
      ]
    },
    {
      "cell_type": "markdown",
      "source": [
        " **30.Implement strStr()**\n",
        "\n",
        "  Return the index of the first occurrence of needle in haystack, or -1 if needle is not part of haystack."
      ],
      "metadata": {
        "id": "tjDHAb9B5JTE"
      }
    },
    {
      "cell_type": "code",
      "source": [
        "def str_str(haystack,needle):\n",
        "  if not needle:\n",
        "     return 0\n",
        "  return haystack.find(needle)\n",
        "#find() returns the index of the first occurrence of needle if found.\n",
        "\n",
        "haystack = \"hello _world\"\n",
        "needle = \"world\"\n",
        "index = str_str(haystack, needle)\n",
        "print(index)  # Output: 6\n",
        "\n",
        "haystack = \"hello _world\"\n",
        "needle = \"AI\"\n",
        "index = str_str(haystack, needle)\n",
        "print(index)  # Output: -1 if not found\n"
      ],
      "metadata": {
        "colab": {
          "base_uri": "https://localhost:8080/"
        },
        "id": "TztYYRsC435T",
        "outputId": "442b4779-56c8-4d57-af1c-0d14916819d1"
      },
      "execution_count": null,
      "outputs": [
        {
          "output_type": "stream",
          "name": "stdout",
          "text": [
            "7\n",
            "-1\n"
          ]
        }
      ]
    },
    {
      "cell_type": "markdown",
      "source": [
        "**31.Product of Array Except Self**\n",
        "\n",
        " Given an array nums of n integers where n > 1, return an array output such that output[i] is equal to the product of all the elements of nums except nums[i]."
      ],
      "metadata": {
        "id": "ccmhGc6h7t0S"
      }
    },
    {
      "cell_type": "code",
      "source": [
        "def product_except_self(nums):\n",
        "    length = len(nums)\n",
        "    output = [1] * length\n",
        "    left, right = 1, 1\n",
        "#output = [1,1,1,1]\n",
        "#arr=[1,2,3,4]\n",
        "# Create an output array filled with 1s, which will store the final results.\n",
        "# Initialize two variables, left and right, to 1, representing prefix and suffix products, respectively.\n",
        "    for i in range(length):\n",
        "      output[i] *= left #output[0] *= 1 = 1\n",
        "      left *= arr[i] #1*arr[0] = 1*1=> left=1\n",
        "      output[-1-i] *= right #out[-1-0] = out[-1]=1, 1*1=1=>out[-1-i]=1\n",
        "      right *= arr[-1-i] #1*arr[-1-0] 1*4 =>right=4\n",
        "#output[-1 - i] = output[-1 - i] * right.\n",
        "\n",
        "    return output\n",
        "# -1 accesses the last element of the array.\n",
        "# - i subtracts the current loop counter (i) from it,\n",
        "#  moving towards the left as i increases.\n",
        "#     return output\n",
        "\n",
        "nums = [1, 2, 3, 4]\n",
        "result = product_except_self(nums)\n",
        "print(result)  # Output: [24, 12, 8, 6]\n"
      ],
      "metadata": {
        "colab": {
          "base_uri": "https://localhost:8080/"
        },
        "id": "ptcg_14L7vxd",
        "outputId": "ab0c0016-ca58-4c78-f201-cf01e817f336"
      },
      "execution_count": null,
      "outputs": [
        {
          "output_type": "stream",
          "name": "stdout",
          "text": [
            "[24, 12, 8, 6]\n"
          ]
        }
      ]
    },
    {
      "cell_type": "markdown",
      "source": [
        "**32.First Unique Character in a String**\n",
        "\n",
        "Given a string, find the first non-repeating character in it and return its index. If it doesn't exist, return -1."
      ],
      "metadata": {
        "id": "HY9rw3y9BP66"
      }
    },
    {
      "cell_type": "code",
      "source": [
        "from collections import Counter\n",
        "\n",
        "def first_uniq_char(s):\n",
        "   count = Counter(s)\n",
        "  #  Counter({'e': 3, 'l': 1, 't': 1, 'c': 1, 'o': 1, 'd': 1})\n",
        "   for idx,ch in enumerate(s):\n",
        "      if count[ch] == 1: #single occurence\n",
        "         return idx\n",
        "   return -1\n",
        "\n",
        "s = \"leetcode\"\n",
        "first_unique_index = first_uniq_char(s)\n",
        "print(first_unique_index)  # Output: 0 #i.e i=0  l is unique and its first occurence in the string\n",
        "\n",
        "s = \"GeeksForGeeks\"\n",
        "first_unique_index = first_uniq_char(s)\n",
        "print(first_unique_index)  # Output: 5 #i.e i=5  F is unique and its first occurence in the string\n",
        "#Counter({'e': 4, 'G': 2, 'k': 2, 's': 2, 'F': 1, 'o': 1, 'r': 1})"
      ],
      "metadata": {
        "colab": {
          "base_uri": "https://localhost:8080/"
        },
        "id": "q2DC9C-qBVnx",
        "outputId": "3062bd41-e5ae-4c96-b710-c222e43c61af"
      },
      "execution_count": null,
      "outputs": [
        {
          "output_type": "stream",
          "name": "stdout",
          "text": [
            "0\n",
            "5\n"
          ]
        }
      ]
    },
    {
      "cell_type": "markdown",
      "source": [
        "**33.Given an array of integers nums and an integer target, return indices of the two numbers such that they add up to target.**"
      ],
      "metadata": {
        "id": "_eos97wiEaXU"
      }
    },
    {
      "cell_type": "code",
      "source": [
        "def two_sum(nums,target):\n",
        "    num_to_index = {}\n",
        "    for i,num in enumerate(nums): #(i=0,num=2), (i=1,num=7)\n",
        "      diff = target - num #(9-2 = 7) , (9-7=2)\n",
        "      if diff in num_to_index: #7 not yet there ,#2 is there\n",
        "        return [num_to_index[diff],i] #so return n_t_d[2] = 0 ->[0,1]\n",
        "      num_to_index[num] =i #num_to_index[2] = 0 so {2:0} #as we have to return the index\n",
        "\n",
        "nums = [2, 7, 11, 15]\n",
        "target = 9\n",
        "indices = two_sum(nums, target)\n",
        "print(indices)  # Output: [0, 1]\n"
      ],
      "metadata": {
        "colab": {
          "base_uri": "https://localhost:8080/"
        },
        "id": "OOwLuu-iEd26",
        "outputId": "8e160a51-68da-4848-b6c2-6b4d1fe72306"
      },
      "execution_count": null,
      "outputs": [
        {
          "output_type": "stream",
          "name": "stdout",
          "text": [
            "[0, 1]\n"
          ]
        }
      ]
    },
    {
      "cell_type": "markdown",
      "source": [
        "**Find max of array**"
      ],
      "metadata": {
        "id": "SUvdZfdaIhrC"
      }
    },
    {
      "cell_type": "code",
      "source": [
        "from collections import Counter\n",
        "\n",
        "def majority_element(nums):\n",
        "    counts = Counter(nums)\n",
        "    return max(counts.keys(), key=counts.get)\n",
        "\n",
        "\n",
        "nums = [3, 2, 3, 4, 3, 3, 2]\n",
        "majority_element = majority_element(nums)\n",
        "print(majority_element)  # Output: 3"
      ],
      "metadata": {
        "id": "ei-VSehdIiId"
      },
      "execution_count": null,
      "outputs": []
    },
    {
      "cell_type": "markdown",
      "source": [
        "**34.Given an array of size n, find the majority element. The majority element is the element that appears more than n/2 times**.\n"
      ],
      "metadata": {
        "id": "WT5fUaglHc_X"
      }
    },
    {
      "cell_type": "code",
      "source": [
        "\n",
        "from collections import Counter\n",
        "\n",
        "def majority_element(nums):\n",
        "    counts = Counter(nums)\n",
        "    most_common = counts.most_common(1)[0][0]  # Get the element with the highest count #[first_dim][key] if [0][1] its [first_dim][value]\n",
        "    if counts[most_common] > len(nums) // 2:  # Check if it's truly a majority element\n",
        "        return most_common\n",
        "    else:\n",
        "        return None  # No majority element found\n",
        "\n",
        "nums = [3, 2, 3, 3, 3, 5, 2]\n",
        "majority_element = majority_element(nums)\n",
        "print(majority_element)  # Output: None\n",
        "\n"
      ],
      "metadata": {
        "colab": {
          "base_uri": "https://localhost:8080/"
        },
        "id": "LodISmUxEr4X",
        "outputId": "a0aff0f3-b2e2-4696-f21f-f1cef9e61421"
      },
      "execution_count": null,
      "outputs": [
        {
          "output_type": "stream",
          "name": "stdout",
          "text": [
            "3\n"
          ]
        }
      ]
    },
    {
      "cell_type": "markdown",
      "source": [
        "**35.Count the number of prime numbers less than a non-negative number, n.**\n",
        "\n",
        "Sieve of Eratosthenes: An efficient algorithm for finding prime numbers up to a given limit."
      ],
      "metadata": {
        "id": "0F2NyYaod2g-"
      }
    },
    {
      "cell_type": "markdown",
      "source": [
        "![image.png](data:image/png;base64,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)"
      ],
      "metadata": {
        "id": "PUw0UF9fgdNX"
      }
    },
    {
      "cell_type": "code",
      "source": [
        "def count_primes(n):\n",
        "    if n <= 2:\n",
        "        return 0\n",
        "    primes = [True] * n #[True]*10 Create a list primes of length n, filled with True values, initially assuming all numbers are prime.\n",
        "    primes[0], primes[1] = False, False #Mark 0 and 1 as False (they are not prime).\n",
        "    for i in range(2, int(n**0.5) + 1):  #range(2,3+1)\n",
        "        if primes[i]:  #if prime[2]  -> prime[i] is still True\n",
        "            for j in range(i*i, n, i): #range(2*2,10,2) -> (4,6,8)\n",
        "                primes[j] = False # mark them as False (not prime).\n",
        "    return sum(primes)\n",
        "\n",
        "n = 10\n",
        "prime_count = count_primes(n)\n",
        "print(prime_count)  # Output: 4\n"
      ],
      "metadata": {
        "colab": {
          "base_uri": "https://localhost:8080/"
        },
        "id": "XrspPWjId5eD",
        "outputId": "0bf328d7-d4a2-439b-bb77-a03096e4040f"
      },
      "execution_count": null,
      "outputs": [
        {
          "output_type": "stream",
          "name": "stdout",
          "text": [
            "4\n"
          ]
        }
      ]
    },
    {
      "cell_type": "markdown",
      "source": [
        "**36.Given an array nums, write a function to move all 0's to the end of it while maintaining the relative order of the non-zero elements.**"
      ],
      "metadata": {
        "id": "erhhZrzMigeO"
      }
    },
    {
      "cell_type": "code",
      "source": [
        "def move_zeroes(nums):\n",
        "    pos = 0\n",
        "    for i in range(len(nums)):\n",
        "        if nums[i] != 0:\n",
        "            nums[pos], nums[i] = nums[i], nums[pos] #nums[0],nums[1] = nums[1],nums[0] #swapping position to move all non-zero to left\n",
        "            pos += 1\n",
        "\n",
        "nums = [0, 1, 0, 3, 12, 0, 4, 0]\n",
        "move_zeroes(nums)\n",
        "print(nums)  # Output: [1, 3, 12, 4, 0, 0, 0, 0]\n"
      ],
      "metadata": {
        "colab": {
          "base_uri": "https://localhost:8080/"
        },
        "id": "psbW839pegHU",
        "outputId": "54ca9b6f-618b-4717-f31e-06736d091620"
      },
      "execution_count": null,
      "outputs": [
        {
          "output_type": "stream",
          "name": "stdout",
          "text": [
            "[1, 3, 12, 4, 0, 0, 0, 0]\n"
          ]
        }
      ]
    },
    {
      "cell_type": "markdown",
      "source": [
        "**37.Find Anagram**\n",
        "\n",
        "Anagrams: Two strings are anagrams if they contain the same characters in the same counts, but possibly in a different order"
      ],
      "metadata": {
        "id": "z12yZYF3kStM"
      }
    },
    {
      "cell_type": "code",
      "source": [
        "from collections import Counter\n",
        "\n",
        "def is_anagram(s, t):\n",
        "    return Counter(s) == Counter(t)\n",
        "\n",
        "s = \"listen\"\n",
        "t = \"silent\"\n",
        "is_anagram_result = is_anagram(s, t)\n",
        "print(is_anagram_result)  # Output: True\n",
        "\n"
      ],
      "metadata": {
        "colab": {
          "base_uri": "https://localhost:8080/"
        },
        "id": "vwsN0hbGkW8m",
        "outputId": "e41e9d71-7e0f-4812-f662-bc663122703a"
      },
      "execution_count": null,
      "outputs": [
        {
          "output_type": "stream",
          "name": "stdout",
          "text": [
            "True\n"
          ]
        }
      ]
    },
    {
      "cell_type": "markdown",
      "source": [
        "**38.Given a singly linked list, determine if it is a palindrome.**\n",
        "\n",
        "Use Python Visualiser for better understanding\n",
        "\n",
        "**https://pythontutor.com/render.html#mode=display**"
      ],
      "metadata": {
        "id": "7_quVZb8l4n0"
      }
    },
    {
      "cell_type": "code",
      "source": [
        "class ListNode:\n",
        "   def __init__(self,value=0,next=None):\n",
        "     self.value = value\n",
        "     self.next = next\n",
        "\n",
        "def is_palindrome(head):\n",
        "    values = [] #list to store node values\n",
        "    current = head #base node\n",
        "    while current:\n",
        "       values.append(current.value)\n",
        "       current = current.next #points next\n",
        "\n",
        "    return values == values[::-1]\n",
        "\n",
        "# Create a linked list (1 -> 2 -> 2 -> 1)\n",
        "head = ListNode(1, ListNode(2, ListNode(2, ListNode(1))))\n",
        "\n",
        "is_palindrome_result = is_palindrome(head)\n",
        "print(is_palindrome_result)  # Output: True\n",
        "\n",
        "\n",
        "# Create a linked list (1 -> 2 -> 3 -> 2)\n",
        "head = ListNode(1, ListNode(2, ListNode(3, ListNode(2))))\n",
        "\n",
        "is_palindrome_result = is_palindrome(head)\n",
        "print(is_palindrome_result)  # Output: True\n"
      ],
      "metadata": {
        "colab": {
          "base_uri": "https://localhost:8080/"
        },
        "id": "boOKS2NqkjXO",
        "outputId": "71d8f8f2-1671-4073-a183-d458325da6a6"
      },
      "execution_count": null,
      "outputs": [
        {
          "output_type": "stream",
          "name": "stdout",
          "text": [
            "True\n",
            "False\n"
          ]
        }
      ]
    },
    {
      "cell_type": "markdown",
      "source": [
        "**39.Design a stack that supports push, pop, top, and retrieving the minimum element in constant time.**"
      ],
      "metadata": {
        "id": "cSte88i3oery"
      }
    },
    {
      "cell_type": "code",
      "source": [
        "class MinStack:\n",
        "    def __init__(self):\n",
        "        self.stack = []\n",
        "        self.min_stack = []\n",
        "\n",
        "    def push(self, x):\n",
        "        self.stack.append(x)\n",
        "        if not self.min_stack or x <= self.min_stack[-1]: #either not in min_stack or less than min_stack\n",
        "            self.min_stack.append(x)\n",
        "\n",
        "    def pop(self):\n",
        "        if self.stack.pop() == self.min_stack[-1]:\n",
        "            self.min_stack.pop()\n",
        "\n",
        "    def top(self):\n",
        "        return self.stack[-1]\n",
        "\n",
        "    def getMin(self):\n",
        "        return self.min_stack[-1]  #arranged in descending order so [5,3] -> 3\n",
        "\n",
        "#Stack follows Last in First out\n",
        "min_stack = MinStack()\n",
        "min_stack.push(5)\n",
        "min_stack.push(3)\n",
        "min_stack.push(2)\n",
        "min_stack.push(1)\n",
        "\n",
        "print(f\"Top element: {min_stack.top()}\")  # Output: 1\n",
        "print(f\"Minimum element: {min_stack.getMin()}\")  # Output: 1\n",
        "\n",
        "min_stack.pop()\n",
        "min_stack.pop()\n",
        "\n",
        "print(f\"Top element: {min_stack.top()}\")  # Output: 3\n",
        "print(f\"Minimum element: {min_stack.getMin()}\")  # Output: 3\n",
        "\n"
      ],
      "metadata": {
        "id": "0mtdCZPknF1w"
      },
      "execution_count": null,
      "outputs": []
    },
    {
      "cell_type": "markdown",
      "source": [
        "**40.Binary Tree Level Order Traversal**\n",
        "\n",
        "Given a binary tree, return the level order traversal of its nodes' values."
      ],
      "metadata": {
        "id": "znm_wTbkrfSx"
      }
    },
    {
      "cell_type": "code",
      "source": [
        "class TreeNode:\n",
        "    def __init__(self, val=0, left=None, right=None):\n",
        "        self.val = val\n",
        "        self.left = left\n",
        "        self.right = right\n",
        "\n",
        "def level_order(root):\n",
        "    if not root:\n",
        "        return []\n",
        "    result, queue = [], [root] #enqueue root in queue\n",
        "    while queue:\n",
        "        level, level_len = [], len(queue)\n",
        "        for i in range(level_len):\n",
        "            node = queue.pop(0)\n",
        "            level.append(node.val)\n",
        "            if node.left:\n",
        "                queue.append(node.left)\n",
        "            if node.right:\n",
        "                queue.append(node.right)\n",
        "        result.append(level)\n",
        "    return result\n",
        "\n",
        "# Create a sample binary tree\n",
        "#value,left,right\n",
        "root = TreeNode(3, TreeNode(9), TreeNode(20, TreeNode(15), TreeNode(7)))\n",
        "\n",
        "level_order_result = level_order(root)\n",
        "print(level_order_result)  # Output: [[3], [9, 20], [15, 7]]\n"
      ],
      "metadata": {
        "colab": {
          "base_uri": "https://localhost:8080/"
        },
        "id": "SxlI8cJzrojD",
        "outputId": "43b65c7f-5131-44f2-db81-d05b1f6f1e43"
      },
      "execution_count": null,
      "outputs": [
        {
          "output_type": "stream",
          "name": "stdout",
          "text": [
            "[[3], [9, 20], [15, 7]]\n"
          ]
        }
      ]
    },
    {
      "cell_type": "markdown",
      "source": [
        "![Screenshot 2024-01-09 201744.png](data:image/png;base64,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)"
      ],
      "metadata": {
        "id": "CNBVWMW-42O7"
      }
    },
    {
      "cell_type": "markdown",
      "source": [
        "**41.Invert a binary tree.**"
      ],
      "metadata": {
        "id": "t3d2n9aj6L05"
      }
    },
    {
      "cell_type": "code",
      "source": [
        "class TreeNode:\n",
        "    def __init__(self, val=0, left=None, right=None):\n",
        "        self.val = val\n",
        "        self.left = left\n",
        "        self.right = right\n",
        "\n",
        "def invert_tree(root):\n",
        "    if not root:\n",
        "        return None\n",
        "    root.left, root.right = invert_tree(root.right), invert_tree(root.left)\n",
        "    return root\n",
        "\n",
        "\n",
        "\n",
        "# Code to invert the tree:\n",
        "root = TreeNode(4, TreeNode(2, TreeNode(1), TreeNode(3)), TreeNode(7, TreeNode(6), TreeNode(9)))\n",
        "inverted_root = invert_tree(root)\n",
        "print(f'root: {inverted_root.val}')\n",
        "# The output is the root of the inverted tree:\n",
        "print(inverted_root)  # Output: TreeNode(4, TreeNode(7, TreeNode(9), TreeNode(6)), TreeNode(2, TreeNode(3), TreeNode(1)))\n",
        "\n",
        "\n",
        "# Original tree structure:\n",
        "#         4\n",
        "#       /   \\\n",
        "#      2     7\n",
        "#     / \\   / \\\n",
        "#    1   3 6   9\n",
        "\n",
        "# #Inverted Tree structure:\n",
        "#         4\n",
        "#       /   \\\n",
        "#      7     2\n",
        "#     / \\   / \\\n",
        "#    9   6 3   1\n",
        "# def in_order_traversal(root):\n",
        "#     if root:\n",
        "#         in_order_traversal(root.left)\n",
        "#         print(root.val, end=\" \")  # Print the node's value\n",
        "#         in_order_traversal(root.right)\n",
        "\n",
        "# inverted_root = invert_tree(root)  # Invert the tree\n",
        "# level_order_result = level_order(inverted_root)  # Perform level-order traversal\n",
        "# print(level_order_result)  # Output: [[4], [7, 2], [9, 6, 3, 1]]\n"
      ],
      "metadata": {
        "colab": {
          "base_uri": "https://localhost:8080/"
        },
        "id": "QJIVfKlb6SYv",
        "outputId": "6599f8d8-935c-4177-d4a0-91a1a7b1cd6f"
      },
      "execution_count": null,
      "outputs": [
        {
          "output_type": "stream",
          "name": "stdout",
          "text": [
            "root: 4\n",
            "<__main__.TreeNode object at 0x7cc7c798e3e0>\n",
            "[[4], [2, 7], [1, 3, 6, 9]]\n"
          ]
        }
      ]
    },
    {
      "cell_type": "markdown",
      "source": [
        "**42.Design an algorithm to serialize and deserialize a binary tree**\n"
      ],
      "metadata": {
        "id": "yVKBRY7L8H22"
      }
    },
    {
      "cell_type": "code",
      "source": [
        "class TreeNode:\n",
        "    def __init__(self, value,left=None,right=None):\n",
        "        self.val = value\n",
        "        self.left = left\n",
        "        self.right = right\n",
        "#Converts a tree's structure into a string representation for storage or transmission.\n",
        "class Codec:\n",
        "    def serialize(self, root):\n",
        "        def dfs(node):\n",
        "            if not node:\n",
        "                return [\"None\"]\n",
        "            return [str(node.val)] + dfs(node.left) + dfs(node.right)\n",
        "# returns a list containing the node's value, followed by the serialized representations of its left and right subtrees\n",
        "        return \",\".join(dfs(root))\n",
        "#Serialize the Root: Call dfs(root) to start serialization from the root.\n",
        "# Join String Elements: Concatenate the resulting list elements using commas (\",\") to create the final string representation.\n",
        "    def deserialize(self, data):\n",
        "#Reconstructs a tree from its serialized string representation.\n",
        "        data_list = data.split(',')\n",
        "#Split the string into a list of values using commas.\n",
        "        def dfs():\n",
        "            val = data_list.pop(0)\n",
        "            if val == \"None\":\n",
        "                return None\n",
        "            node = TreeNode(int(val))\n",
        "            node.left = dfs()\n",
        "            node.right = dfs()\n",
        "            return node\n",
        "        return dfs()\n",
        "\n",
        "# Original tree structure:\n",
        "  #   1\n",
        "  #  / \\\n",
        "  # 2   3\n",
        "  #    / \\\n",
        "  #   4   5\n",
        "\n",
        "# Create the correct tree structure\n",
        "root = TreeNode(1, TreeNode(2), TreeNode(3, TreeNode(4), TreeNode(5)))\n",
        "\n",
        "# Serialize and deserialize\n",
        "codec = Codec()\n",
        "serialized_data = codec.serialize(root)\n",
        "print(serialized_data)  # Output: 1,2,None,None,3,4,None,None,5,None,None\n",
        "\n",
        "deserialized_root = codec.deserialize(serialized_data)\n",
        "\n",
        "print(deserialized_root)"
      ],
      "metadata": {
        "colab": {
          "base_uri": "https://localhost:8080/"
        },
        "id": "7VR-mr1_7AAZ",
        "outputId": "01249bd8-0d55-4fdc-f360-200cfa693826"
      },
      "execution_count": null,
      "outputs": [
        {
          "output_type": "stream",
          "name": "stdout",
          "text": [
            "1,2,None,None,3,4,None,None,5,None,None\n",
            "<__main__.TreeNode object at 0x7cc7c798db10>\n"
          ]
        }
      ]
    },
    {
      "cell_type": "markdown",
      "source": [
        "**43.Given a non-empty array of integers, return the k most frequent elements.**\n"
      ],
      "metadata": {
        "id": "CT-SkzTVHnq6"
      }
    },
    {
      "cell_type": "code",
      "source": [
        "from collections import Counter\n",
        "import heapq\n",
        "\n",
        "def top_k_frequent(nums, k):\n",
        "    count = Counter(nums)\n",
        "    return heapq.nlargest(k, count.keys(), key=count.get)\n",
        "\n",
        "\n",
        "nums = [1, 1, 1, 2, 2, 3, 3, 3, 3]\n",
        "k = 2\n",
        "\n",
        "most_frequent = top_k_frequent(nums, k)\n",
        "\n",
        "print(most_frequent)  # Output: [3, 1]\n"
      ],
      "metadata": {
        "colab": {
          "base_uri": "https://localhost:8080/"
        },
        "id": "I_xjhJDnHsyH",
        "outputId": "985b09f6-5dd3-4138-dbfe-a08c96e732f6"
      },
      "execution_count": null,
      "outputs": [
        {
          "output_type": "stream",
          "name": "stdout",
          "text": [
            "[3, 1]\n"
          ]
        }
      ]
    },
    {
      "cell_type": "markdown",
      "source": [
        "**44.Given an encoded string, return its decoded string. The encoding rule is: k[encoded_string], where the encoded_string inside the square brackets is being repeated exactly k times.**"
      ],
      "metadata": {
        "id": "qyVbhY60IjQ7"
      }
    },
    {
      "cell_type": "code",
      "source": [
        "def decode_string(s):\n",
        "    stack, curr_num, curr_str = [], 0, ''\n",
        "    for char in s:\n",
        "        if char == '[':\n",
        "            stack.append(curr_str)\n",
        "            stack.append(curr_num)# in stack [curr_str,curr_num] is added\n",
        "            curr_str, curr_num = '', 0\n",
        "        elif char == ']':\n",
        "            num = stack.pop()\n",
        "            prev_str = stack.pop()\n",
        "            curr_str = prev_str + num * curr_str # \"\" + 3 * a -> aaa\n",
        "        elif char.isdigit():\n",
        "            curr_num = curr_num * 10 + int(char)\n",
        "        else:\n",
        "            curr_str += char\n",
        "    return curr_str\n",
        "\n",
        "encoded_string = \"3[a]2[bc]\"\n",
        "decoded_string = decode_string(encoded_string)\n",
        "\n",
        "print(decoded_string)  # Output: aaabcbc\n"
      ],
      "metadata": {
        "colab": {
          "base_uri": "https://localhost:8080/"
        },
        "id": "45Tr8AekIAzq",
        "outputId": "de99f79a-ec0d-47c9-fa4f-aa40a9ce9ff2"
      },
      "execution_count": null,
      "outputs": [
        {
          "output_type": "stream",
          "name": "stdout",
          "text": [
            "aaabcbc\n"
          ]
        }
      ]
    },
    {
      "cell_type": "markdown",
      "source": [
        "**45.Given an image represented by an NxN matrix, rotate the image by 90 degrees.**"
      ],
      "metadata": {
        "id": "LYOx97xLPDJi"
      }
    },
    {
      "cell_type": "code",
      "source": [
        "def rotate_img_90(matrix):\n",
        "    n = len(matrix)\n",
        "    for i in range(n):\n",
        "        for j in range(i, n):\n",
        "            matrix[i][j], matrix[j][i] = matrix[j][i], matrix[i][j]\n",
        "    for row in matrix:\n",
        "        row.reverse()\n",
        "\n",
        "image = [[1, 2, 3],\n",
        "         [4, 5, 6],\n",
        "         [7, 8, 9]]\n",
        "\n",
        "rotate_img_90(image)\n",
        "\n",
        "print(image)  # Output: [[7, 4, 1], [8, 5, 2], [9, 6, 3]]\n"
      ],
      "metadata": {
        "colab": {
          "base_uri": "https://localhost:8080/"
        },
        "id": "0rXe4GBoPGWG",
        "outputId": "8bba8ef9-1038-4b2e-cf5d-bc54514007b9"
      },
      "execution_count": null,
      "outputs": [
        {
          "output_type": "stream",
          "name": "stdout",
          "text": [
            "[[7, 4, 1], [8, 5, 2], [9, 6, 3]]\n"
          ]
        }
      ]
    },
    {
      "cell_type": "markdown",
      "source": [
        "**46.Find all Duplicates in an Array**"
      ],
      "metadata": {
        "id": "20Adzq4LTsxQ"
      }
    },
    {
      "cell_type": "code",
      "source": [
        "def find_duplicates(nums):\n",
        "    result = []\n",
        "    for num in nums: #0\n",
        "        index = abs(num) - 1 #abs(0) -> 4-1=3\n",
        "        if nums[index] < 0: #this comes at last\n",
        "            result.append(index + 1)\n",
        "        nums[index] = -nums[index] #nums[3] = 7\n",
        "    return result\n",
        "\n",
        "# For 4, index = 3, nums[3] is not negative, so it's marked as -4.\n",
        "# For 3, index = 2, nums[2] is not negative, so it's marked as -3.\n",
        "# For 2, index = 1, nums[1] is not negative, so it's marked as -2.\n",
        "# For 7, index = 6, nums[6] is not negative, so it's marked as -7.\n",
        "# For 8, index = 7, nums[7] is not negative, so it's marked as -8.\n",
        "# For 2 (duplicate), index = 1, nums[1] is already negative (-2), so it's added to the result list.\n",
        "# For 3 (duplicate), index = 2, nums[2] is already negative (-3), so it's added to the result list.\n",
        "# For 1, index = 0, nums[0] is not negative, so it's marked as -1.\n",
        "# The final result list is [2, 3], correctly identifying the duplicates.\n",
        "\n",
        "nums = [4, 3, 2, 7, 8, 2, 3, 1]\n",
        "duplicates = find_duplicates(nums)\n",
        "\n",
        "print(duplicates)  # Output: [2, 3]\n"
      ],
      "metadata": {
        "colab": {
          "base_uri": "https://localhost:8080/"
        },
        "id": "w3Y5oVO0Pi1y",
        "outputId": "bc007620-6007-45f7-8225-9f09c4caccf4"
      },
      "execution_count": null,
      "outputs": [
        {
          "output_type": "stream",
          "name": "stdout",
          "text": [
            "[2, 3]\n"
          ]
        }
      ]
    },
    {
      "cell_type": "markdown",
      "source": [
        "**47. Write a function to flatten a nested list.**"
      ],
      "metadata": {
        "id": "UamvlnMZweGi"
      }
    },
    {
      "cell_type": "code",
      "source": [
        "def flatten(lst):\n",
        "    result = []\n",
        "    for i in lst:\n",
        "        if isinstance(i, list):\n",
        "            result.extend(flatten(i))\n",
        "        else:\n",
        "            result.append(i)\n",
        "    return result\n",
        "\n",
        "nested_list = [1, [2, 3, [4, 5]], 6]\n",
        "print(flatten(nested_list))  # Output: [1, 2, 3, 4, 5, 6]\n"
      ],
      "metadata": {
        "colab": {
          "base_uri": "https://localhost:8080/"
        },
        "id": "md_4To7MHeRJ",
        "outputId": "b5f9e92d-6028-42c5-9915-129912c1c47c"
      },
      "execution_count": null,
      "outputs": [
        {
          "output_type": "stream",
          "name": "stdout",
          "text": [
            "[1, 2, 3, 4, 5, 6]\n"
          ]
        }
      ]
    },
    {
      "cell_type": "code",
      "source": [
        "def flatten_dictionary(d, parent_key='', sep='.'):\n",
        "    items = {}\n",
        "    for k, v in d.items():\n",
        "        new_key = f\"{parent_key}{sep}{k}\" if parent_key else k\n",
        "        if isinstance(v, dict):\n",
        "            items.update(flatten_dictionary(v, new_key, sep=sep))\n",
        "        else:\n",
        "            items[new_key] = v\n",
        "    return items\n",
        "\n",
        "nested_dict = {\n",
        "    \"a\": 1,\n",
        "    \"b\": {\n",
        "        \"c\": 2,\n",
        "        \"d\": {\n",
        "            \"e\": 3\n",
        "        }\n",
        "    }\n",
        "}\n",
        "print(flatten_dictionary(nested_dict))  # Output: {'a': 1, 'b.c': 2, 'b.d.e': 3}\n"
      ],
      "metadata": {
        "id": "OMewzUeYxnra",
        "outputId": "d6a5d309-1fbb-4bdb-ddda-49a4c55eca62",
        "colab": {
          "base_uri": "https://localhost:8080/"
        }
      },
      "execution_count": null,
      "outputs": [
        {
          "output_type": "stream",
          "name": "stdout",
          "text": [
            "{'a': 1, 'b.c': 2, 'b.d.e': 3}\n"
          ]
        }
      ]
    },
    {
      "cell_type": "markdown",
      "source": [
        "**48.Write a Python function to merge two dictionaries. If both dictionaries have the same key, prefer the second dictionary's value.**"
      ],
      "metadata": {
        "id": "MNnMJmTmIkGm"
      }
    },
    {
      "cell_type": "code",
      "source": [
        "def merge_dicts(dict1, dict2):\n",
        "    merged = dict1.copy()\n",
        "    merged.update(dict2)\n",
        "    return merged\n",
        "\n",
        "dict1 = {'a': 1, 'b': 2}\n",
        "dict2 = {'b': 3, 'c': 4}\n",
        "print(merge_dicts(dict1, dict2))  # Output: {'a': 1, 'b': 3, 'c': 4}\n"
      ],
      "metadata": {
        "colab": {
          "base_uri": "https://localhost:8080/"
        },
        "id": "Orm9X9EUIluS",
        "outputId": "6d658b40-ea97-48d7-e879-ce47033ec20a"
      },
      "execution_count": null,
      "outputs": [
        {
          "output_type": "stream",
          "name": "stdout",
          "text": [
            "{'a': 1, 'b': 3, 'c': 4}\n"
          ]
        }
      ]
    },
    {
      "cell_type": "markdown",
      "source": [
        "**49.Write a function that checks if a string contains all letters of the alphabet at least once.**"
      ],
      "metadata": {
        "id": "TRYKXMHqJxDh"
      }
    },
    {
      "cell_type": "code",
      "source": [
        "import string\n",
        "\n",
        "def contains_all_alphabets(s):\n",
        "    alphabet = set(string.ascii_lowercase)\n",
        "    return set(s.lower()) >= alphabet\n",
        "\n",
        "test_string = \"The quick brown fox jumps over the lazy dog\"\n",
        "print(contains_all_alphabets(test_string))  # Output: True\n"
      ],
      "metadata": {
        "colab": {
          "base_uri": "https://localhost:8080/"
        },
        "id": "1_dDRrq6Jy6x",
        "outputId": "a1ab69bf-9d01-4ca7-f291-a6bcad7be4e8"
      },
      "execution_count": null,
      "outputs": [
        {
          "output_type": "stream",
          "name": "stdout",
          "text": [
            "True\n"
          ]
        }
      ]
    },
    {
      "cell_type": "markdown",
      "source": [
        "**50.Write a function to check if two strings are a rotation of each other (e.g., \"abcde\" and \"cdeab\" are rotations of each other).**"
      ],
      "metadata": {
        "id": "iTVV37K4KrlX"
      }
    },
    {
      "cell_type": "code",
      "source": [
        "def are_rotations(str1,str2):\n",
        "    if len(str1) != len(str2):\n",
        "       return False\n",
        "    print(str2+str2)\n",
        "    return str1 in str2+str2 #cdeab+cdeab-> cdeabcdeab\n",
        "s1 = \"abcde\"\n",
        "s2 = \"cdeab\"\n",
        "print(are_rotations(s1, s2))  # Output: True"
      ],
      "metadata": {
        "colab": {
          "base_uri": "https://localhost:8080/"
        },
        "id": "3SF2HAFJKz-k",
        "outputId": "22437338-8bcd-4dd2-a002-0afb76999fa0"
      },
      "execution_count": null,
      "outputs": [
        {
          "output_type": "stream",
          "name": "stdout",
          "text": [
            "cdeabcdeab\n",
            "True\n"
          ]
        }
      ]
    },
    {
      "cell_type": "markdown",
      "source": [
        "**51.Write a function to compute the square root of a given non-negative integer n without using built-in square root functions or libraries. Return the floor value of the result.**\n"
      ],
      "metadata": {
        "id": "tMlPWOhtTFDC"
      }
    },
    {
      "cell_type": "code",
      "source": [
        "def sqrt(n):\n",
        "    if n < 0:\n",
        "        return None\n",
        "    if n == 1:\n",
        "        return 1\n",
        "    start, end = 0, n\n",
        "    while start <= end:\n",
        "        mid = (start + end) // 2\n",
        "        if mid * mid == n:\n",
        "            return mid\n",
        "        elif mid * mid < n:\n",
        "            start = mid + 1\n",
        "            ans = mid\n",
        "        else:\n",
        "            end = mid - 1 #nearest floor\n",
        "    return ans\n",
        "\n",
        "number = 17\n",
        "print(sqrt(number))  # Output: 4\n"
      ],
      "metadata": {
        "colab": {
          "base_uri": "https://localhost:8080/"
        },
        "id": "qVF944hsTMEN",
        "outputId": "0aacea74-1f41-4e9c-fe82-f271f29efdfb"
      },
      "execution_count": null,
      "outputs": [
        {
          "output_type": "stream",
          "name": "stdout",
          "text": [
            "4\n"
          ]
        }
      ]
    },
    {
      "cell_type": "markdown",
      "source": [
        "**52.Write a function to determine if two strings are one edit (or zero edits) away.**"
      ],
      "metadata": {
        "id": "ccxDYi79VfIk"
      }
    },
    {
      "cell_type": "code",
      "source": [
        "def is_one_edit_away(s1, s2):\n",
        "    if abs(len(s1) - len(s2)) > 1:\n",
        "        return False\n",
        "\n",
        "    if len(s1) > len(s2):\n",
        "        s1, s2 = s2, s1\n",
        "\n",
        "    i, j, found_difference = 0, 0, False\n",
        "    while i < len(s1) and j < len(s2):\n",
        "        if s1[i] != s2[j]:\n",
        "            if found_difference:\n",
        "                return False\n",
        "            found_difference = True\n",
        "            if len(s1) == len(s2):\n",
        "                i += 1\n",
        "        else:\n",
        "            i += 1\n",
        "        j += 1\n",
        "    return True\n",
        "\n",
        "print(is_one_edit_away(\"pale\", \"ple\"))   # Output: True\n",
        "print(is_one_edit_away(\"pales\", \"pale\")) # Output: True\n",
        "print(is_one_edit_away(\"pale\", \"bale\"))  # Output: True\n",
        "print(is_one_edit_away(\"pale\", \"bake\"))  # Output: False\n",
        "\n",
        "\n",
        "# Iteration 1:\n",
        "# s1[i] == s2[j] is True (\"p\" == \"p\")\n",
        "# i and j are both incremented to 1.\n",
        "# Iteration 2:\n",
        "# s1[i] != s2[j] is True (\"a\" != \"l\")\n",
        "# found_difference becomes True.\n",
        "# If character mismatch occurs and strings have the same length, increment both i and j to skip both characters.\n",
        "# If character mismatch occurs and strings have different lengths, increment only j to accommodate the insertion/deletion in the shorter string.\n",
        "# Iteration 3:\n",
        "# s1[i] == s2[j] is True (\"l\" == \"l\")\n",
        "# i and j are both incremented to 3.\n",
        "# Iteration 4:\n",
        "# s1[i] == s2[j] is True (\"e\" == \"e\")\n",
        "# i and j both reach the end of their respective strings.\n"
      ],
      "metadata": {
        "colab": {
          "base_uri": "https://localhost:8080/"
        },
        "id": "OvPKNi7qVhFV",
        "outputId": "ddb3045c-eace-4bec-e2e1-a111df3f6fa1"
      },
      "execution_count": null,
      "outputs": [
        {
          "output_type": "stream",
          "name": "stdout",
          "text": [
            "True\n",
            "True\n",
            "True\n",
            "False\n"
          ]
        }
      ]
    },
    {
      "cell_type": "markdown",
      "source": [
        "**53.Write a function that reverses a string, but maintains the position of all non-alphabetic characters.**\n",
        "\n",
        "Use py visualiser\n",
        "https://pythontutor.com/render.html#mode=display"
      ],
      "metadata": {
        "id": "YPhg8-21Z18S"
      }
    },
    {
      "cell_type": "code",
      "source": [
        "def reverse_alphabet_only(s):\n",
        "    s = list(s)\n",
        "    i, j = 0, len(s) - 1\n",
        "    while i < j:\n",
        "        if not s[i].isalpha():\n",
        "            i += 1\n",
        "        elif not s[j].isalpha():\n",
        "            j -= 1\n",
        "        else:\n",
        "            s[i], s[j] = s[j], s[i]\n",
        "            i += 1\n",
        "            j -= 1\n",
        "    return ''.join(s)\n",
        "\n",
        "string = \"ab@cd#ef$gh\"\n",
        "print(reverse_alphabet_only(string))  # Output: \"hg@fe#dc$ba\"\n"
      ],
      "metadata": {
        "colab": {
          "base_uri": "https://localhost:8080/"
        },
        "id": "reaNaf-iZh2G",
        "outputId": "1229517f-52ff-4b73-938e-030ea39dbfa9"
      },
      "execution_count": null,
      "outputs": [
        {
          "output_type": "stream",
          "name": "stdout",
          "text": [
            "hg@fe#dc$ba\n"
          ]
        }
      ]
    },
    {
      "cell_type": "markdown",
      "source": [
        "**54.Write a function that returns the sum of two numbers represented as strings. Your function should not use built-in arithmetic operators or functions.**\n",
        "\n",
        "Use py visualiser https://pythontutor.com/render.html#mode=display"
      ],
      "metadata": {
        "id": "GQK9KbKEbClu"
      }
    },
    {
      "cell_type": "code",
      "source": [
        "def add_string_num(num1,num2):\n",
        "    res,carry,i,j = \"\",0,len(num1)-1,len(num2)-1\n",
        "    while i>=0 or j>=0 or carry:\n",
        "       n1 = int(num1[i]) if i >=0 else 0\n",
        "       n2 = int(num2[j]) if j >=0 else 0\n",
        "       temp_sum = n1+n2+carry\n",
        "       #Reverse order\n",
        "       res = str(temp_sum % 10) + res #12 #Extracts the digit representing the units place of the sum using modulo 10.\n",
        "       carry = temp_sum // 10  #Updates the carry with the tens place of the sum (integer division by 10).\n",
        "       i,j = i-1,j-1\n",
        "    return res\n",
        "\n",
        "\n",
        "n1 = \"123\"\n",
        "n2 = \"789\"\n",
        "print(add_string_num(n1, n2))  # Output: \"912\"\n",
        "\n",
        "\n",
        "# Initialization:\n",
        "\n",
        "# res = \"\" (empty string to store the sum in reverse order)\n",
        "# carry = 0 (initial carry)\n",
        "# i = 2 (indexing the last character of \"123\")\n",
        "# j = 2 (indexing the last character of \"789\")\n",
        "# Iteration 1:\n",
        "\n",
        "# n1[i] = \"1\", n2[j] = \"9\"\n",
        "# temp_sum = 1 + 9 + 0 = 10 # 0 is from prev carry=0\n",
        "# res = \"0\" + \"\" = \"0\" (add units digit to res)\n",
        "# carry = 10 // 10 = 1 (update carry with tens digit)\n",
        "# i = 1, j = 1 (decrement pointers)\n",
        "# Iteration 2:\n",
        "\n",
        "# n1[i] = \"2\", n2[j] = \"8\"\n",
        "# temp_sum = 2 + 8 + 1 = 11 # 1 is from prev carry=1\n",
        "# res = \"1\" + \"0\" = \"10\" (add units digit to res)\n",
        "# carry = 11 // 10 = 1 (update carry with tens digit)\n",
        "# i = 0, j = 0 (decrement pointers)\n",
        "# Iteration 3:\n",
        "\n",
        "# n1[i] = \"3\", n2[j] = \"7\"\n",
        "# temp_sum = 3 + 7 + 1 = 11\n",
        "# res = \"1\" + \"10\" = \"110\" (add units digit to res)\n",
        "# carry = 11 // 10 = 1 (update carry with tens digit)\n",
        "# i = -1, j = -1 (pointers become out of bounds)\n",
        "# Iteration 4:\n",
        "\n",
        "# n1[i] = 0 (default value since i < 0)\n",
        "# n2[j] = 0 (default value since j < 0)\n",
        "# temp_sum = 0 + 0 + 1 = 1\n",
        "# res = \"1\" + \"110\" = \"1110\" (add units digit to res)\n",
        "# carry = 1 // 10 = 0 (no more carry)\n",
        "# Loop terminates as all pointers are out of bounds and carry is 0\n"
      ],
      "metadata": {
        "colab": {
          "base_uri": "https://localhost:8080/"
        },
        "id": "kHydrhUNbFaA",
        "outputId": "37e57d6a-9c8b-47ea-cbe8-10bcf3e9bf40"
      },
      "execution_count": null,
      "outputs": [
        {
          "output_type": "stream",
          "name": "stdout",
          "text": [
            "912\n"
          ]
        }
      ]
    },
    {
      "cell_type": "markdown",
      "source": [
        "**55.Given a list of words, group the anagrams together**"
      ],
      "metadata": {
        "id": "Ds970D4TmF56"
      }
    },
    {
      "cell_type": "code",
      "source": [
        "from collections import defaultdict\n",
        "\n",
        "def group_anagrams(words):\n",
        "    anagrams = defaultdict(list)\n",
        "    #defaultdict(<class 'list'>, {'aet': ['eat', 'tea'], 'ant': ['tan', 'ant'], 'abt': ['bat']}\n",
        "    for word in words:\n",
        "        # Use sorted word as a key. All anagrams will result in the same key.\n",
        "        sorted_word = ''.join(sorted(word)) #aet\n",
        "        anagrams[sorted_word].append(word) #{aet: ['eat','tea']\n",
        "    return list(anagrams.values())\n",
        "\n",
        "words = [\"eat\", \"tea\", \"tan\", \"ant\", \"bat\"]\n",
        "print(group_anagrams(words))  # Output: [['eat', 'tea'], ['tan', 'ant'], ['bat']]\n"
      ],
      "metadata": {
        "colab": {
          "base_uri": "https://localhost:8080/"
        },
        "id": "EH-cB3Rvc6ff",
        "outputId": "274715c2-fbcb-407e-bb5f-cb77de2556ee"
      },
      "execution_count": null,
      "outputs": [
        {
          "output_type": "stream",
          "name": "stdout",
          "text": [
            "[['eat', 'tea'], ['tan', 'ant'], ['bat']]\n"
          ]
        }
      ]
    },
    {
      "cell_type": "markdown",
      "source": [
        "**56.Find the kth largest element in an unsorted array.**"
      ],
      "metadata": {
        "id": "zob7itSmwq63"
      }
    },
    {
      "cell_type": "code",
      "source": [
        "import heapq\n",
        "\n",
        "def find_kth_largest(nums, k):\n",
        "    return heapq.nlargest(k, nums)[-1]\n",
        "\n",
        "nums = [3, 2, 1, 5, 6, 4]\n",
        "k = 2\n",
        "print(find_kth_largest(nums, k))  # Output: 5\n"
      ],
      "metadata": {
        "colab": {
          "base_uri": "https://localhost:8080/"
        },
        "id": "tu5U6wmHwtuY",
        "outputId": "aa60edc7-ca70-479e-e877-b845b49b2f1b"
      },
      "execution_count": null,
      "outputs": [
        {
          "output_type": "stream",
          "name": "stdout",
          "text": [
            "5\n"
          ]
        }
      ]
    }
  ]
}